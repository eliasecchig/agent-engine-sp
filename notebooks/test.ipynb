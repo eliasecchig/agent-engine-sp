{
 "cells": [
  {
   "cell_type": "code",
   "execution_count": 30,
   "metadata": {},
   "outputs": [],
   "source": [
    "from vertexai.preview import reasoning_engines\n",
    "reasoning_engine = reasoning_engines.ReasoningEngine('projects/882920967572/locations/us-central1/reasoningEngines/5418586815726616576')\n",
    "\n",
    "import json\n",
    "\n",
    "# Load agent engine ID from deployment config\n",
    "with open(\".agent_deployment.json\") as f:\n",
    "    config = json.load(f)\n",
    "    reasoning_engine = reasoning_engines.ReasoningEngine(config[\"remote_agent_engine_id\"])\n"
   ]
  },
  {
   "cell_type": "code",
   "execution_count": 16,
   "metadata": {},
   "outputs": [],
   "source": [
    "feedback = {\n",
    "    \"score\": 1.0,\n",
    "    \"text\": \"This was helpful\",\n",
    "    \"run_id\": \"test-run-123\",\n",
    "    \"log_type\": \"feedback\"\n",
    "}\n",
    "reasoning_engine.register_feedback(feedback=feedback)"
   ]
  },
  {
   "cell_type": "code",
   "execution_count": 31,
   "metadata": {},
   "outputs": [
    {
     "name": "stdout",
     "output_type": "stream",
     "text": [
      "Failed to parse JSON: {\"agent\": {\"messages\": {\"lc\": 1, \"type\": \"constructor\", \"id\": [\"langchain\", \"schema\", \"messages\", \"AIMessage\"], \"kwargs\": {\"content\": \"\", \"additional_kwargs\": {\"function_call\": {\"name\": \"search\", \"arguments\": \"{\\\"query\\\": \\\"exchange rate USD to SEK\\\"}\"}}, \"response_metadata\": {\"safety_ratings\": [], \"finish_reason\": \"STOP\"}, \"type\": \"ai\", \"id\": \"run-4cd83a2d-80b0-4b3e-9617-683e7d142622-0\", \"tool_calls\": [{\"name\": \"search\", \"args\": {\"query\": \"exchange rate USD to SEK\"}, \"id\": \"ccc73c03-bca9-4758-8067-d5aacdcc25af\", \"type\": \"tool_call\"}], \"usage_metadata\": {\"input_tokens\": 40, \"output_tokens\": 7, \"total_tokens\": 47}, \"invalid_tool_calls\": []}}}}\n",
      "{\"tools\": {\"messages\": [{\"lc\": 1, \"type\": \"constructor\", \"id\": [\"langchain\", \"schema\", \"messages\", \"ToolMessage\"], \"kwargs\": {\"content\": \"It's 90 degrees and sunny.\", \"type\": \"tool\", \"name\": \"search\", \"id\": \"9d7f76f0-e43b-4de9-b6c6-4205d4507c07\", \"tool_call_id\": \"ccc73c03-bca9-4758-8067-d5aacdcc25af\", \"status\": \"success\"}}]}}\n",
      ". Exception: Extra data: line 2 column 1 (char 651)\n",
      "1 content_type: \"application/json\"\n",
      "data: \"{\"agent\": {\"messages\": {\"lc\": 1, \"type\": \"constructor\", \"id\": [\"langchain\", \"schema\", \"messages\", \"AIMessage\"], \"kwargs\": {\"content\": \"\", \"additional_kwargs\": {\"function_call\": {\"name\": \"search\", \"arguments\": \"{\\\"query\\\": \\\"exchange rate USD to SEK\\\"}\"}}, \"response_metadata\": {\"safety_ratings\": [], \"finish_reason\": \"STOP\"}, \"type\": \"ai\", \"id\": \"run-4cd83a2d-80b0-4b3e-9617-683e7d142622-0\", \"tool_calls\": [{\"name\": \"search\", \"args\": {\"query\": \"exchange rate USD to SEK\"}, \"id\": \"ccc73c03-bca9-4758-8067-d5aacdcc25af\", \"type\": \"tool_call\"}], \"usage_metadata\": {\"input_tokens\": 40, \"output_tokens\": 7, \"total_tokens\": 47}, \"invalid_tool_calls\": []}}}}\\n{\"tools\": {\"messages\": [{\"lc\": 1, \"type\": \"constructor\", \"id\": [\"langchain\", \"schema\", \"messages\", \"ToolMessage\"], \"kwargs\": {\"content\": \"It's 90 degrees and sunny.\", \"type\": \"tool\", \"name\": \"search\", \"id\": \"9d7f76f0-e43b-4de9-b6c6-4205d4507c07\", \"tool_call_id\": \"ccc73c03-bca9-4758-8067-d5aacdcc25af\", \"status\": \"success\"}}]}}\\n\"\n",
      "extensions {\n",
      "  type_url: \"type.googleapis.com/google.rpc.context.HttpHeaderContext\"\n",
      "  value: \"\\n%\\n\\004Date\\022\\035Mon, 20 Jan 2025 16:03:11 GMT\\n9\\n\\007Alt-Svc\\022.h3=\":443\"; ma=2592000,h3-29=\":443\"; ma=2592000\\n \\n\\014content-type\\022\\020application/json\\n\\034\\n\\021Transfer-Encoding\\022\\007chunked\\n\\031\\n\\006Server\\022\\017Google Frontend\\030\\310\\001\"\n",
      "}\n",
      "\n",
      "_____\n",
      "1 {'agent': {'messages': {'lc': 1, 'type': 'constructor', 'id': ['langchain', 'schema', 'messages', 'AIMessage'], 'kwargs': {'content': \"Unfortunately, I don't have enough information to answer. I can generate human-like text in response to a wide range of prompts and questions, but my knowledge about exchange rates is limited. Is there anything else I can do to help?\\n\", 'response_metadata': {'safety_ratings': [], 'finish_reason': 'STOP'}, 'type': 'ai', 'id': 'run-abf32ae3-21b9-46b7-835c-fe985524f5f1-0', 'usage_metadata': {'input_tokens': 59, 'output_tokens': 50, 'total_tokens': 109}, 'tool_calls': [], 'invalid_tool_calls': []}}}}\n",
      "_____\n"
     ]
    }
   ],
   "source": [
    "\n",
    "inputs  = {\n",
    "                \"messages\": [\n",
    "                    {\"role\": \"user\", \"content\": \"Hello, AI!\"},\n",
    "                    {\"type\": \"ai\", \"content\": \"Hello!\"},\n",
    "                    {\"type\": \"user\", \"content\": \"What is the exchange rate from US dollars to Swedish currency?\"},\n",
    "                ]\n",
    "            }\n",
    "for x in reasoning_engine.stream_query(input=inputs): \n",
    "    print(1,x)\n",
    "    print(\"_____\")"
   ]
  },
  {
   "cell_type": "code",
   "execution_count": 32,
   "metadata": {},
   "outputs": [
    {
     "data": {
      "text/plain": [
       "{'messages': [{'kwargs': {'content': 'Hello, AI!',\n",
       "    'type': 'human',\n",
       "    'id': '6312c5c3-3d04-49ed-a7c1-7e3c192dae12'},\n",
       "   'type': 'constructor',\n",
       "   'id': ['langchain', 'schema', 'messages', 'HumanMessage'],\n",
       "   'lc': 1.0},\n",
       "  {'kwargs': {'content': 'Hello!',\n",
       "    'type': 'ai',\n",
       "    'tool_calls': [],\n",
       "    'id': 'cad8f848-9acd-4323-9cc3-8578d96fd7aa',\n",
       "    'invalid_tool_calls': []},\n",
       "   'type': 'constructor',\n",
       "   'id': ['langchain', 'schema', 'messages', 'AIMessage'],\n",
       "   'lc': 1.0},\n",
       "  {'kwargs': {'content': 'What is the exchange rate from US dollars to Swedish currency?',\n",
       "    'type': 'human',\n",
       "    'id': '3675e670-2793-4101-b63c-7e4484e51faf'},\n",
       "   'type': 'constructor',\n",
       "   'id': ['langchain', 'schema', 'messages', 'HumanMessage'],\n",
       "   'lc': 1.0},\n",
       "  {'kwargs': {'content': '',\n",
       "    'type': 'ai',\n",
       "    'tool_calls': [{'type': 'tool_call',\n",
       "      'args': {'query': 'exchange rate USD to SEK'},\n",
       "      'id': '91ccffdf-de5f-420a-a6f0-ab4e49a029c3',\n",
       "      'name': 'search'}],\n",
       "    'id': 'run-86bc3957-c765-4007-9381-04135ed6233b-0',\n",
       "    'response_metadata': {'safety_ratings': [], 'finish_reason': 'STOP'},\n",
       "    'additional_kwargs': {'function_call': {'arguments': '{\"query\": \"exchange rate USD to SEK\"}',\n",
       "      'name': 'search'}},\n",
       "    'usage_metadata': {'output_tokens': 7.0,\n",
       "     'total_tokens': 47.0,\n",
       "     'input_tokens': 40.0},\n",
       "    'invalid_tool_calls': []},\n",
       "   'type': 'constructor',\n",
       "   'id': ['langchain', 'schema', 'messages', 'AIMessage'],\n",
       "   'lc': 1.0},\n",
       "  {'kwargs': {'tool_call_id': '91ccffdf-de5f-420a-a6f0-ab4e49a029c3',\n",
       "    'content': \"It's 90 degrees and sunny.\",\n",
       "    'type': 'tool',\n",
       "    'status': 'success',\n",
       "    'id': 'b4831866-34db-4dcc-8961-e7b4e25358eb',\n",
       "    'name': 'search'},\n",
       "   'type': 'constructor',\n",
       "   'id': ['langchain', 'schema', 'messages', 'ToolMessage'],\n",
       "   'lc': 1.0},\n",
       "  {'kwargs': {'content': \"Unfortunately, I don't have enough information to answer. I can generate human-like text in response to a wide range of prompts and questions, but my knowledge about current exchange rates is limited. Is there anything else I can do to help?\\n\",\n",
       "    'type': 'ai',\n",
       "    'tool_calls': [],\n",
       "    'id': 'run-fef3391f-ce74-4de7-9e43-c0fd3ce83399-0',\n",
       "    'response_metadata': {'safety_ratings': [], 'finish_reason': 'STOP'},\n",
       "    'usage_metadata': {'output_tokens': 51.0,\n",
       "     'total_tokens': 110.0,\n",
       "     'input_tokens': 59.0},\n",
       "    'invalid_tool_calls': []},\n",
       "   'type': 'constructor',\n",
       "   'id': ['langchain', 'schema', 'messages', 'AIMessage'],\n",
       "   'lc': 1.0}]}"
      ]
     },
     "execution_count": 32,
     "metadata": {},
     "output_type": "execute_result"
    }
   ],
   "source": [
    "reasoning_engine.query(input=inputs)\n"
   ]
  },
  {
   "cell_type": "code",
   "execution_count": null,
   "metadata": {},
   "outputs": [],
   "source": []
  }
 ],
 "metadata": {
  "kernelspec": {
   "display_name": ".venv",
   "language": "python",
   "name": "python3"
  },
  "language_info": {
   "codemirror_mode": {
    "name": "ipython",
    "version": 3
   },
   "file_extension": ".py",
   "mimetype": "text/x-python",
   "name": "python",
   "nbconvert_exporter": "python",
   "pygments_lexer": "ipython3",
   "version": "3.11.11"
  }
 },
 "nbformat": 4,
 "nbformat_minor": 2
}
